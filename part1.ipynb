{
  "nbformat": 4,
  "nbformat_minor": 5,
  "metadata": {
    "kernelspec": {
      "display_name": "Python 3 (ipykernel)",
      "language": "python",
      "name": "python3"
    },
    "language_info": {
      "codemirror_mode": {
        "name": "ipython",
        "version": 3
      },
      "file_extension": ".py",
      "mimetype": "text/x-python",
      "name": "python",
      "nbconvert_exporter": "python",
      "pygments_lexer": "ipython3",
      "version": "3.8.11"
    },
    "colab": {
      "name": "Pandas&DimensionalityReduction.ipynb",
      "provenance": [],
      "include_colab_link": true
    }
  },
  "cells": [
    {
      "cell_type": "markdown",
      "metadata": {
        "id": "view-in-github",
        "colab_type": "text"
      },
      "source": [
        "<a href=\"https://colab.research.google.com/github/ilafila/Intelligent-Systems/blob/main/Pandas%26DimensionalityReduction.ipynb\" target=\"_parent\"><img src=\"https://colab.research.google.com/assets/colab-badge.svg\" alt=\"Open In Colab\"/></a>"
      ]
    },
    {
      "cell_type": "code",
      "metadata": {
        "id": "9cc259d8"
      },
      "source": [
        "import pandas as pd\n",
        "import numpy as np\n",
        "import seaborn as sns\n",
        "import matplotlib\n",
        "import matplotlib.pyplot as plt"
      ],
      "id": "9cc259d8",
      "execution_count": 1,
      "outputs": []
    },
    {
      "cell_type": "markdown",
      "metadata": {
        "id": "984f836d"
      },
      "source": [
        "#### Загрузить данные в pandas по url=https://raw.githubusercontent.com/justmarkham/DAT8/master/data/chipotle.tsv"
      ],
      "id": "984f836d"
    },
    {
      "cell_type": "code",
      "metadata": {
        "colab": {
          "base_uri": "https://localhost:8080/",
          "height": 204
        },
        "id": "FT0u8bsSS-jt",
        "outputId": "c0532c4c-0bf9-4ba7-f767-86da8a7ebe7f"
      },
      "source": [
        "url = \"https://raw.githubusercontent.com/justmarkham/DAT8/master/data/chipotle.tsv\"\n",
        "data = pd.read_csv(url, sep='\\t')\n",
        "data.head()"
      ],
      "id": "FT0u8bsSS-jt",
      "execution_count": 2,
      "outputs": [
        {
          "output_type": "execute_result",
          "data": {
            "text/html": [
              "<div>\n",
              "<style scoped>\n",
              "    .dataframe tbody tr th:only-of-type {\n",
              "        vertical-align: middle;\n",
              "    }\n",
              "\n",
              "    .dataframe tbody tr th {\n",
              "        vertical-align: top;\n",
              "    }\n",
              "\n",
              "    .dataframe thead th {\n",
              "        text-align: right;\n",
              "    }\n",
              "</style>\n",
              "<table border=\"1\" class=\"dataframe\">\n",
              "  <thead>\n",
              "    <tr style=\"text-align: right;\">\n",
              "      <th></th>\n",
              "      <th>order_id</th>\n",
              "      <th>quantity</th>\n",
              "      <th>item_name</th>\n",
              "      <th>choice_description</th>\n",
              "      <th>item_price</th>\n",
              "    </tr>\n",
              "  </thead>\n",
              "  <tbody>\n",
              "    <tr>\n",
              "      <th>0</th>\n",
              "      <td>1</td>\n",
              "      <td>1</td>\n",
              "      <td>Chips and Fresh Tomato Salsa</td>\n",
              "      <td>NaN</td>\n",
              "      <td>$2.39</td>\n",
              "    </tr>\n",
              "    <tr>\n",
              "      <th>1</th>\n",
              "      <td>1</td>\n",
              "      <td>1</td>\n",
              "      <td>Izze</td>\n",
              "      <td>[Clementine]</td>\n",
              "      <td>$3.39</td>\n",
              "    </tr>\n",
              "    <tr>\n",
              "      <th>2</th>\n",
              "      <td>1</td>\n",
              "      <td>1</td>\n",
              "      <td>Nantucket Nectar</td>\n",
              "      <td>[Apple]</td>\n",
              "      <td>$3.39</td>\n",
              "    </tr>\n",
              "    <tr>\n",
              "      <th>3</th>\n",
              "      <td>1</td>\n",
              "      <td>1</td>\n",
              "      <td>Chips and Tomatillo-Green Chili Salsa</td>\n",
              "      <td>NaN</td>\n",
              "      <td>$2.39</td>\n",
              "    </tr>\n",
              "    <tr>\n",
              "      <th>4</th>\n",
              "      <td>2</td>\n",
              "      <td>2</td>\n",
              "      <td>Chicken Bowl</td>\n",
              "      <td>[Tomatillo-Red Chili Salsa (Hot), [Black Beans...</td>\n",
              "      <td>$16.98</td>\n",
              "    </tr>\n",
              "  </tbody>\n",
              "</table>\n",
              "</div>"
            ],
            "text/plain": [
              "   order_id  ...  item_price\n",
              "0         1  ...      $2.39 \n",
              "1         1  ...      $3.39 \n",
              "2         1  ...      $3.39 \n",
              "3         1  ...      $2.39 \n",
              "4         2  ...     $16.98 \n",
              "\n",
              "[5 rows x 5 columns]"
            ]
          },
          "metadata": {},
          "execution_count": 2
        }
      ]
    },
    {
      "cell_type": "code",
      "metadata": {
        "colab": {
          "base_uri": "https://localhost:8080/"
        },
        "id": "HFIesO-sV5vr",
        "outputId": "6347afcf-a199-4a14-d0fc-dd3f4d106aeb"
      },
      "source": [
        "# 1. Вывести: кол-во наблюдений в датасете\n",
        "print(len(data))"
      ],
      "id": "HFIesO-sV5vr",
      "execution_count": 3,
      "outputs": [
        {
          "output_type": "stream",
          "name": "stdout",
          "text": [
            "4622\n"
          ]
        }
      ]
    },
    {
      "cell_type": "code",
      "metadata": {
        "colab": {
          "base_uri": "https://localhost:8080/"
        },
        "id": "oY7BHL6PWNCW",
        "outputId": "0bdbd533-9fa4-4a20-8ad4-aae5be4fd68e"
      },
      "source": [
        "# 2. Вывести названия столбцов\n",
        "data.columns.tolist()"
      ],
      "id": "oY7BHL6PWNCW",
      "execution_count": 4,
      "outputs": [
        {
          "output_type": "execute_result",
          "data": {
            "text/plain": [
              "['order_id', 'quantity', 'item_name', 'choice_description', 'item_price']"
            ]
          },
          "metadata": {},
          "execution_count": 4
        }
      ]
    },
    {
      "cell_type": "code",
      "metadata": {
        "colab": {
          "base_uri": "https://localhost:8080/",
          "height": 37
        },
        "id": "SE-2PbyhXtSj",
        "outputId": "b2ae2eb0-72d6-456c-92b5-6c7e9829e379"
      },
      "source": [
        "# 3. Определить самую частую позицию (item) в заказе\n",
        "data['item_name'].value_counts().index.tolist()[0]"
      ],
      "id": "SE-2PbyhXtSj",
      "execution_count": 5,
      "outputs": [
        {
          "output_type": "execute_result",
          "data": {
            "application/vnd.google.colaboratory.intrinsic+json": {
              "type": "string"
            },
            "text/plain": [
              "'Chicken Bowl'"
            ]
          },
          "metadata": {},
          "execution_count": 5
        }
      ]
    },
    {
      "cell_type": "code",
      "metadata": {
        "colab": {
          "base_uri": "https://localhost:8080/",
          "height": 841
        },
        "id": "bgPBz9kgY07L",
        "outputId": "4ead6026-4bab-4d01-f463-8d4aa512c4f8"
      },
      "source": [
        "# 4. Построить гистрограмму частоты заказов по позициям (item)\n",
        "plt.rcParams['figure.figsize'] = (20, 10)\n",
        "plt.rcParams['font.size'] = 12\n",
        "data.groupby('item_name')['quantity'].sum().sort_values().plot(kind='bar')\n",
        "plt.title('Частота заказов по позициям')\n",
        "plt.ylabel('Количество заказов')\n",
        "plt.xlabel('Позиция')\n",
        "plt.show()"
      ],
      "id": "bgPBz9kgY07L",
      "execution_count": 6,
      "outputs": [
        {
          "output_type": "display_data",
          "data": {
            "image/png": "[encoded data removed]",
            "text/plain": [
              "<Figure size 1440x720 with 1 Axes>"
            ]
          },
          "metadata": {
            "needs_background": "light"
          }
        }
      ]
    },
    {
      "cell_type": "code",
      "metadata": {
        "colab": {
          "base_uri": "https://localhost:8080/"
        },
        "id": "rDAqpFQiqwji",
        "outputId": "182faf9c-b6bd-422e-bc7f-3b4c3580030f"
      },
      "source": [
        "# 5. Измените тип переменной item_price c с помощью лямбды функции\n",
        "if data['item_price'].dtype != 'float64':\n",
        "    data['item_price'] = data['item_price'].apply(lambda x: float(x[1:]))\n",
        "print(data['item_price'].dtype)"
      ],
      "id": "rDAqpFQiqwji",
      "execution_count": 7,
      "outputs": [
        {
          "output_type": "stream",
          "name": "stdout",
          "text": [
            "float64\n"
          ]
        }
      ]
    },
    {
      "cell_type": "code",
      "metadata": {
        "colab": {
          "base_uri": "https://localhost:8080/",
          "height": 841
        },
        "id": "iSiBL0j5r_Zy",
        "outputId": "64f3b9a5-a8f7-4813-e277-87e1cfe518cd"
      },
      "source": [
        "# 6. Построить гистограмму кол-во денег заработанных по каждой позиции (item)\n",
        "price = pd.to_numeric(data['item_price'])\n",
        "quantity = pd.to_numeric(data['quantity'])\n",
        "data['sum_price'] = quantity * price\n",
        "data.groupby('item_name')['sum_price'].sum().sort_values().plot(kind='bar')\n",
        "plt.xlabel('Позиция')\n",
        "plt.ylabel('Количество денег')\n",
        "plt.title('Количество денег заработанных по каждой позиции')\n",
        "plt.show()"
      ],
      "id": "iSiBL0j5r_Zy",
      "execution_count": 8,
      "outputs": [
        {
          "output_type": "display_data",
          "data": {
            "image/png": "[encoded data removed]",
            "text/plain": [
              "<Figure size 1440x720 with 1 Axes>"
            ]
          },
          "metadata": {
            "needs_background": "light"
          }
        }
      ]
    },
    {
      "cell_type": "code",
      "metadata": {
        "colab": {
          "base_uri": "https://localhost:8080/"
        },
        "id": "re-lFI-Bu6Ld",
        "outputId": "1b439c7f-4ec7-4a52-f323-a9aceed57fea"
      },
      "source": [
        "# 7. Средняя сумма заказа? (минимум 2 способа)\n",
        "print('Первый способ:', data['item_price'].sum() / len(data.groupby('order_id')))\n",
        "total_order_sum = data['item_price'].sum()\n",
        "num_orders = len(set(data['order_id']))\n",
        "average_order_price = total_order_sum / num_orders\n",
        "print('Второй способ:', average_order_price)"
      ],
      "id": "re-lFI-Bu6Ld",
      "execution_count": 9,
      "outputs": [
        {
          "output_type": "stream",
          "name": "stdout",
          "text": [
            "Первый способ: 18.811428571428575\n",
            "Второй способ: 18.811428571428575\n"
          ]
        }
      ]
    },
    {
      "cell_type": "code",
      "metadata": {
        "colab": {
          "base_uri": "https://localhost:8080/",
          "height": 173
        },
        "id": "7t5MLJArxRn7",
        "outputId": "430949c6-3ba9-4447-f2b1-6a5dbccf2e79"
      },
      "source": [
        "# 8. Выведите среднее, минимальное и максимальное, медианное значения позиций в заказе\n",
        "group = data.groupby('order_id').item_name.nunique().reset_index()\n",
        "group.agg({\n",
        "    'item_name': ['mean', 'min', 'max', 'median'],\n",
        "})"
      ],
      "id": "7t5MLJArxRn7",
      "execution_count": 10,
      "outputs": [
        {
          "output_type": "execute_result",
          "data": {
            "text/html": [
              "<div>\n",
              "<style scoped>\n",
              "    .dataframe tbody tr th:only-of-type {\n",
              "        vertical-align: middle;\n",
              "    }\n",
              "\n",
              "    .dataframe tbody tr th {\n",
              "        vertical-align: top;\n",
              "    }\n",
              "\n",
              "    .dataframe thead th {\n",
              "        text-align: right;\n",
              "    }\n",
              "</style>\n",
              "<table border=\"1\" class=\"dataframe\">\n",
              "  <thead>\n",
              "    <tr style=\"text-align: right;\">\n",
              "      <th></th>\n",
              "      <th>item_name</th>\n",
              "    </tr>\n",
              "  </thead>\n",
              "  <tbody>\n",
              "    <tr>\n",
              "      <th>mean</th>\n",
              "      <td>2.34024</td>\n",
              "    </tr>\n",
              "    <tr>\n",
              "      <th>min</th>\n",
              "      <td>1.00000</td>\n",
              "    </tr>\n",
              "    <tr>\n",
              "      <th>max</th>\n",
              "      <td>8.00000</td>\n",
              "    </tr>\n",
              "    <tr>\n",
              "      <th>median</th>\n",
              "      <td>2.00000</td>\n",
              "    </tr>\n",
              "  </tbody>\n",
              "</table>\n",
              "</div>"
            ],
            "text/plain": [
              "        item_name\n",
              "mean      2.34024\n",
              "min       1.00000\n",
              "max       8.00000\n",
              "median    2.00000"
            ]
          },
          "metadata": {},
          "execution_count": 10
        }
      ]
    },
    {
      "cell_type": "code",
      "metadata": {
        "colab": {
          "base_uri": "https://localhost:8080/",
          "height": 297
        },
        "id": "63ncu6rRz80Q",
        "outputId": "56cd26a4-729a-4499-f4a2-29063e633d84"
      },
      "source": [
        "# 9.1 Определить статистику заказов стейков\n",
        "steaks_stat = data[data.item_name.str.contains(\"Steak\")]\n",
        "steaks_stat[[\"quantity\", \"item_price\"]].describe()\n"
      ],
      "id": "63ncu6rRz80Q",
      "execution_count": 11,
      "outputs": [
        {
          "output_type": "execute_result",
          "data": {
            "text/html": [
              "<div>\n",
              "<style scoped>\n",
              "    .dataframe tbody tr th:only-of-type {\n",
              "        vertical-align: middle;\n",
              "    }\n",
              "\n",
              "    .dataframe tbody tr th {\n",
              "        vertical-align: top;\n",
              "    }\n",
              "\n",
              "    .dataframe thead th {\n",
              "        text-align: right;\n",
              "    }\n",
              "</style>\n",
              "<table border=\"1\" class=\"dataframe\">\n",
              "  <thead>\n",
              "    <tr style=\"text-align: right;\">\n",
              "      <th></th>\n",
              "      <th>quantity</th>\n",
              "      <th>item_price</th>\n",
              "    </tr>\n",
              "  </thead>\n",
              "  <tbody>\n",
              "    <tr>\n",
              "      <th>count</th>\n",
              "      <td>702.000000</td>\n",
              "      <td>702.000000</td>\n",
              "    </tr>\n",
              "    <tr>\n",
              "      <th>mean</th>\n",
              "      <td>1.045584</td>\n",
              "      <td>10.518889</td>\n",
              "    </tr>\n",
              "    <tr>\n",
              "      <th>std</th>\n",
              "      <td>0.228314</td>\n",
              "      <td>2.566743</td>\n",
              "    </tr>\n",
              "    <tr>\n",
              "      <th>min</th>\n",
              "      <td>1.000000</td>\n",
              "      <td>8.690000</td>\n",
              "    </tr>\n",
              "    <tr>\n",
              "      <th>25%</th>\n",
              "      <td>1.000000</td>\n",
              "      <td>8.990000</td>\n",
              "    </tr>\n",
              "    <tr>\n",
              "      <th>50%</th>\n",
              "      <td>1.000000</td>\n",
              "      <td>9.250000</td>\n",
              "    </tr>\n",
              "    <tr>\n",
              "      <th>75%</th>\n",
              "      <td>1.000000</td>\n",
              "      <td>11.750000</td>\n",
              "    </tr>\n",
              "    <tr>\n",
              "      <th>max</th>\n",
              "      <td>3.000000</td>\n",
              "      <td>27.750000</td>\n",
              "    </tr>\n",
              "  </tbody>\n",
              "</table>\n",
              "</div>"
            ],
            "text/plain": [
              "         quantity  item_price\n",
              "count  702.000000  702.000000\n",
              "mean     1.045584   10.518889\n",
              "std      0.228314    2.566743\n",
              "min      1.000000    8.690000\n",
              "25%      1.000000    8.990000\n",
              "50%      1.000000    9.250000\n",
              "75%      1.000000   11.750000\n",
              "max      3.000000   27.750000"
            ]
          },
          "metadata": {},
          "execution_count": 11
        }
      ]
    },
    {
      "cell_type": "code",
      "metadata": {
        "colab": {
          "base_uri": "https://localhost:8080/",
          "height": 297
        },
        "id": "g9Dfj-aP4WVl",
        "outputId": "5d035d24-84b4-484d-c33a-71db78f7ef86"
      },
      "source": [
        "# 9.2 Определить статистику заказов прожарки.\n",
        "roast_stat = data[data.choice_description.str.contains(\"Mild|Medium|Hot\", na=False)]\n",
        "roast_stat[[\"quantity\", \"item_price\"]].describe()"
      ],
      "id": "g9Dfj-aP4WVl",
      "execution_count": 12,
      "outputs": [
        {
          "output_type": "execute_result",
          "data": {
            "text/html": [
              "<div>\n",
              "<style scoped>\n",
              "    .dataframe tbody tr th:only-of-type {\n",
              "        vertical-align: middle;\n",
              "    }\n",
              "\n",
              "    .dataframe tbody tr th {\n",
              "        vertical-align: top;\n",
              "    }\n",
              "\n",
              "    .dataframe thead th {\n",
              "        text-align: right;\n",
              "    }\n",
              "</style>\n",
              "<table border=\"1\" class=\"dataframe\">\n",
              "  <thead>\n",
              "    <tr style=\"text-align: right;\">\n",
              "      <th></th>\n",
              "      <th>quantity</th>\n",
              "      <th>item_price</th>\n",
              "    </tr>\n",
              "  </thead>\n",
              "  <tbody>\n",
              "    <tr>\n",
              "      <th>count</th>\n",
              "      <td>783.000000</td>\n",
              "      <td>783.000000</td>\n",
              "    </tr>\n",
              "    <tr>\n",
              "      <th>mean</th>\n",
              "      <td>1.054917</td>\n",
              "      <td>9.772031</td>\n",
              "    </tr>\n",
              "    <tr>\n",
              "      <th>std</th>\n",
              "      <td>0.238920</td>\n",
              "      <td>2.588239</td>\n",
              "    </tr>\n",
              "    <tr>\n",
              "      <th>min</th>\n",
              "      <td>1.000000</td>\n",
              "      <td>8.190000</td>\n",
              "    </tr>\n",
              "    <tr>\n",
              "      <th>25%</th>\n",
              "      <td>1.000000</td>\n",
              "      <td>8.490000</td>\n",
              "    </tr>\n",
              "    <tr>\n",
              "      <th>50%</th>\n",
              "      <td>1.000000</td>\n",
              "      <td>8.990000</td>\n",
              "    </tr>\n",
              "    <tr>\n",
              "      <th>75%</th>\n",
              "      <td>1.000000</td>\n",
              "      <td>10.980000</td>\n",
              "    </tr>\n",
              "    <tr>\n",
              "      <th>max</th>\n",
              "      <td>3.000000</td>\n",
              "      <td>32.940000</td>\n",
              "    </tr>\n",
              "  </tbody>\n",
              "</table>\n",
              "</div>"
            ],
            "text/plain": [
              "         quantity  item_price\n",
              "count  783.000000  783.000000\n",
              "mean     1.054917    9.772031\n",
              "std      0.238920    2.588239\n",
              "min      1.000000    8.190000\n",
              "25%      1.000000    8.490000\n",
              "50%      1.000000    8.990000\n",
              "75%      1.000000   10.980000\n",
              "max      3.000000   32.940000"
            ]
          },
          "metadata": {},
          "execution_count": 12
        }
      ]
    },
    {
      "cell_type": "code",
      "metadata": {
        "colab": {
          "base_uri": "https://localhost:8080/",
          "height": 204
        },
        "id": "J6PMK562-HWh",
        "outputId": "43146716-fd94-4945-f27f-6d29512f7831"
      },
      "source": [
        "# 10. Добавить новый столбец цен на каждую позицию в заказе в рублях.\n",
        "data['item_price_rub'] = data['item_price'].apply(lambda value: str(round(value * 75, 2)))\n",
        "data.head()"
      ],
      "id": "J6PMK562-HWh",
      "execution_count": 13,
      "outputs": [
        {
          "output_type": "execute_result",
          "data": {
            "text/html": [
              "<div>\n",
              "<style scoped>\n",
              "    .dataframe tbody tr th:only-of-type {\n",
              "        vertical-align: middle;\n",
              "    }\n",
              "\n",
              "    .dataframe tbody tr th {\n",
              "        vertical-align: top;\n",
              "    }\n",
              "\n",
              "    .dataframe thead th {\n",
              "        text-align: right;\n",
              "    }\n",
              "</style>\n",
              "<table border=\"1\" class=\"dataframe\">\n",
              "  <thead>\n",
              "    <tr style=\"text-align: right;\">\n",
              "      <th></th>\n",
              "      <th>order_id</th>\n",
              "      <th>quantity</th>\n",
              "      <th>item_name</th>\n",
              "      <th>choice_description</th>\n",
              "      <th>item_price</th>\n",
              "      <th>sum_price</th>\n",
              "      <th>item_price_rub</th>\n",
              "    </tr>\n",
              "  </thead>\n",
              "  <tbody>\n",
              "    <tr>\n",
              "      <th>0</th>\n",
              "      <td>1</td>\n",
              "      <td>1</td>\n",
              "      <td>Chips and Fresh Tomato Salsa</td>\n",
              "      <td>NaN</td>\n",
              "      <td>2.39</td>\n",
              "      <td>2.39</td>\n",
              "      <td>179.25</td>\n",
              "    </tr>\n",
              "    <tr>\n",
              "      <th>1</th>\n",
              "      <td>1</td>\n",
              "      <td>1</td>\n",
              "      <td>Izze</td>\n",
              "      <td>[Clementine]</td>\n",
              "      <td>3.39</td>\n",
              "      <td>3.39</td>\n",
              "      <td>254.25</td>\n",
              "    </tr>\n",
              "    <tr>\n",
              "      <th>2</th>\n",
              "      <td>1</td>\n",
              "      <td>1</td>\n",
              "      <td>Nantucket Nectar</td>\n",
              "      <td>[Apple]</td>\n",
              "      <td>3.39</td>\n",
              "      <td>3.39</td>\n",
              "      <td>254.25</td>\n",
              "    </tr>\n",
              "    <tr>\n",
              "      <th>3</th>\n",
              "      <td>1</td>\n",
              "      <td>1</td>\n",
              "      <td>Chips and Tomatillo-Green Chili Salsa</td>\n",
              "      <td>NaN</td>\n",
              "      <td>2.39</td>\n",
              "      <td>2.39</td>\n",
              "      <td>179.25</td>\n",
              "    </tr>\n",
              "    <tr>\n",
              "      <th>4</th>\n",
              "      <td>2</td>\n",
              "      <td>2</td>\n",
              "      <td>Chicken Bowl</td>\n",
              "      <td>[Tomatillo-Red Chili Salsa (Hot), [Black Beans...</td>\n",
              "      <td>16.98</td>\n",
              "      <td>33.96</td>\n",
              "      <td>1273.5</td>\n",
              "    </tr>\n",
              "  </tbody>\n",
              "</table>\n",
              "</div>"
            ],
            "text/plain": [
              "   order_id  quantity  ... sum_price item_price_rub\n",
              "0         1         1  ...      2.39         179.25\n",
              "1         1         1  ...      3.39         254.25\n",
              "2         1         1  ...      3.39         254.25\n",
              "3         1         1  ...      2.39         179.25\n",
              "4         2         2  ...     33.96         1273.5\n",
              "\n",
              "[5 rows x 7 columns]"
            ]
          },
          "metadata": {},
          "execution_count": 13
        }
      ]
    },
    {
      "cell_type": "code",
      "metadata": {
        "id": "nUn7uniG_E14",
        "colab": {
          "base_uri": "https://localhost:8080/",
          "height": 419
        },
        "outputId": "e3ee9fa5-074b-44d6-ba70-2e8d43a1cd58"
      },
      "source": [
        "# 11.1 Сгруппировать заказы по входящим позициям в него\n",
        "group_orders = data.groupby('order_id').agg({'item_name': lambda data: \", \".join(data), 'item_price':np.sum,'quantity':np.sum}).reset_index()\n",
        "group_orders"
      ],
      "id": "nUn7uniG_E14",
      "execution_count": 14,
      "outputs": [
        {
          "output_type": "execute_result",
          "data": {
            "text/html": [
              "<div>\n",
              "<style scoped>\n",
              "    .dataframe tbody tr th:only-of-type {\n",
              "        vertical-align: middle;\n",
              "    }\n",
              "\n",
              "    .dataframe tbody tr th {\n",
              "        vertical-align: top;\n",
              "    }\n",
              "\n",
              "    .dataframe thead th {\n",
              "        text-align: right;\n",
              "    }\n",
              "</style>\n",
              "<table border=\"1\" class=\"dataframe\">\n",
              "  <thead>\n",
              "    <tr style=\"text-align: right;\">\n",
              "      <th></th>\n",
              "      <th>order_id</th>\n",
              "      <th>item_name</th>\n",
              "      <th>item_price</th>\n",
              "      <th>quantity</th>\n",
              "    </tr>\n",
              "  </thead>\n",
              "  <tbody>\n",
              "    <tr>\n",
              "      <th>0</th>\n",
              "      <td>1</td>\n",
              "      <td>Chips and Fresh Tomato Salsa, Izze, Nantucket ...</td>\n",
              "      <td>11.56</td>\n",
              "      <td>4</td>\n",
              "    </tr>\n",
              "    <tr>\n",
              "      <th>1</th>\n",
              "      <td>2</td>\n",
              "      <td>Chicken Bowl</td>\n",
              "      <td>16.98</td>\n",
              "      <td>2</td>\n",
              "    </tr>\n",
              "    <tr>\n",
              "      <th>2</th>\n",
              "      <td>3</td>\n",
              "      <td>Chicken Bowl, Side of Chips</td>\n",
              "      <td>12.67</td>\n",
              "      <td>2</td>\n",
              "    </tr>\n",
              "    <tr>\n",
              "      <th>3</th>\n",
              "      <td>4</td>\n",
              "      <td>Steak Burrito, Steak Soft Tacos</td>\n",
              "      <td>21.00</td>\n",
              "      <td>2</td>\n",
              "    </tr>\n",
              "    <tr>\n",
              "      <th>4</th>\n",
              "      <td>5</td>\n",
              "      <td>Steak Burrito, Chips and Guacamole</td>\n",
              "      <td>13.70</td>\n",
              "      <td>2</td>\n",
              "    </tr>\n",
              "    <tr>\n",
              "      <th>...</th>\n",
              "      <td>...</td>\n",
              "      <td>...</td>\n",
              "      <td>...</td>\n",
              "      <td>...</td>\n",
              "    </tr>\n",
              "    <tr>\n",
              "      <th>1829</th>\n",
              "      <td>1830</td>\n",
              "      <td>Steak Burrito, Veggie Burrito</td>\n",
              "      <td>23.00</td>\n",
              "      <td>2</td>\n",
              "    </tr>\n",
              "    <tr>\n",
              "      <th>1830</th>\n",
              "      <td>1831</td>\n",
              "      <td>Carnitas Bowl, Chips, Bottled Water</td>\n",
              "      <td>12.90</td>\n",
              "      <td>3</td>\n",
              "    </tr>\n",
              "    <tr>\n",
              "      <th>1831</th>\n",
              "      <td>1832</td>\n",
              "      <td>Chicken Soft Tacos, Chips and Guacamole</td>\n",
              "      <td>13.20</td>\n",
              "      <td>2</td>\n",
              "    </tr>\n",
              "    <tr>\n",
              "      <th>1832</th>\n",
              "      <td>1833</td>\n",
              "      <td>Steak Burrito, Steak Burrito</td>\n",
              "      <td>23.50</td>\n",
              "      <td>2</td>\n",
              "    </tr>\n",
              "    <tr>\n",
              "      <th>1833</th>\n",
              "      <td>1834</td>\n",
              "      <td>Chicken Salad Bowl, Chicken Salad Bowl, Chicke...</td>\n",
              "      <td>28.75</td>\n",
              "      <td>3</td>\n",
              "    </tr>\n",
              "  </tbody>\n",
              "</table>\n",
              "<p>1834 rows × 4 columns</p>\n",
              "</div>"
            ],
            "text/plain": [
              "      order_id  ... quantity\n",
              "0            1  ...        4\n",
              "1            2  ...        2\n",
              "2            3  ...        2\n",
              "3            4  ...        2\n",
              "4            5  ...        2\n",
              "...        ...  ...      ...\n",
              "1829      1830  ...        2\n",
              "1830      1831  ...        3\n",
              "1831      1832  ...        2\n",
              "1832      1833  ...        2\n",
              "1833      1834  ...        3\n",
              "\n",
              "[1834 rows x 4 columns]"
            ]
          },
          "metadata": {},
          "execution_count": 14
        }
      ]
    },
    {
      "cell_type": "code",
      "metadata": {
        "colab": {
          "base_uri": "https://localhost:8080/",
          "height": 419
        },
        "id": "g4_oDNBRBY0q",
        "outputId": "2fb9c83c-0f8e-4c38-a72b-e27606ca2ce6"
      },
      "source": [
        "# 11.2 Отдельно сгруппировать по стейкам во всех видах прожарках\n",
        "group_steaks = data.loc[data['item_name'].str.contains('Steak')]\n",
        "group_steaks.groupby('order_id').agg({'quantity':np.sum, 'item_name': lambda x: \", \".join(x), 'item_price':np.sum})\n",
        "group_steaks"
      ],
      "id": "g4_oDNBRBY0q",
      "execution_count": 15,
      "outputs": [
        {
          "output_type": "execute_result",
          "data": {
            "text/html": [
              "<div>\n",
              "<style scoped>\n",
              "    .dataframe tbody tr th:only-of-type {\n",
              "        vertical-align: middle;\n",
              "    }\n",
              "\n",
              "    .dataframe tbody tr th {\n",
              "        vertical-align: top;\n",
              "    }\n",
              "\n",
              "    .dataframe thead th {\n",
              "        text-align: right;\n",
              "    }\n",
              "</style>\n",
              "<table border=\"1\" class=\"dataframe\">\n",
              "  <thead>\n",
              "    <tr style=\"text-align: right;\">\n",
              "      <th></th>\n",
              "      <th>order_id</th>\n",
              "      <th>quantity</th>\n",
              "      <th>item_name</th>\n",
              "      <th>choice_description</th>\n",
              "      <th>item_price</th>\n",
              "      <th>sum_price</th>\n",
              "      <th>item_price_rub</th>\n",
              "    </tr>\n",
              "  </thead>\n",
              "  <tbody>\n",
              "    <tr>\n",
              "      <th>7</th>\n",
              "      <td>4</td>\n",
              "      <td>1</td>\n",
              "      <td>Steak Burrito</td>\n",
              "      <td>[Tomatillo Red Chili Salsa, [Fajita Vegetables...</td>\n",
              "      <td>11.75</td>\n",
              "      <td>11.75</td>\n",
              "      <td>881.25</td>\n",
              "    </tr>\n",
              "    <tr>\n",
              "      <th>8</th>\n",
              "      <td>4</td>\n",
              "      <td>1</td>\n",
              "      <td>Steak Soft Tacos</td>\n",
              "      <td>[Tomatillo Green Chili Salsa, [Pinto Beans, Ch...</td>\n",
              "      <td>9.25</td>\n",
              "      <td>9.25</td>\n",
              "      <td>693.75</td>\n",
              "    </tr>\n",
              "    <tr>\n",
              "      <th>9</th>\n",
              "      <td>5</td>\n",
              "      <td>1</td>\n",
              "      <td>Steak Burrito</td>\n",
              "      <td>[Fresh Tomato Salsa, [Rice, Black Beans, Pinto...</td>\n",
              "      <td>9.25</td>\n",
              "      <td>9.25</td>\n",
              "      <td>693.75</td>\n",
              "    </tr>\n",
              "    <tr>\n",
              "      <th>31</th>\n",
              "      <td>16</td>\n",
              "      <td>1</td>\n",
              "      <td>Steak Burrito</td>\n",
              "      <td>[[Roasted Chili Corn Salsa (Medium), Fresh Tom...</td>\n",
              "      <td>8.99</td>\n",
              "      <td>8.99</td>\n",
              "      <td>674.25</td>\n",
              "    </tr>\n",
              "    <tr>\n",
              "      <th>43</th>\n",
              "      <td>20</td>\n",
              "      <td>1</td>\n",
              "      <td>Steak Burrito</td>\n",
              "      <td>[Fresh Tomato Salsa, [Rice, Pinto Beans, Chees...</td>\n",
              "      <td>11.75</td>\n",
              "      <td>11.75</td>\n",
              "      <td>881.25</td>\n",
              "    </tr>\n",
              "    <tr>\n",
              "      <th>...</th>\n",
              "      <td>...</td>\n",
              "      <td>...</td>\n",
              "      <td>...</td>\n",
              "      <td>...</td>\n",
              "      <td>...</td>\n",
              "      <td>...</td>\n",
              "      <td>...</td>\n",
              "    </tr>\n",
              "    <tr>\n",
              "      <th>4572</th>\n",
              "      <td>1818</td>\n",
              "      <td>1</td>\n",
              "      <td>Steak Salad Bowl</td>\n",
              "      <td>[Fresh Tomato Salsa, [Fajita Vegetables, Lettu...</td>\n",
              "      <td>9.39</td>\n",
              "      <td>9.39</td>\n",
              "      <td>704.25</td>\n",
              "    </tr>\n",
              "    <tr>\n",
              "      <th>4607</th>\n",
              "      <td>1829</td>\n",
              "      <td>1</td>\n",
              "      <td>Steak Burrito</td>\n",
              "      <td>[Tomatillo Green Chili Salsa, [Rice, Cheese, S...</td>\n",
              "      <td>11.75</td>\n",
              "      <td>11.75</td>\n",
              "      <td>881.25</td>\n",
              "    </tr>\n",
              "    <tr>\n",
              "      <th>4610</th>\n",
              "      <td>1830</td>\n",
              "      <td>1</td>\n",
              "      <td>Steak Burrito</td>\n",
              "      <td>[Fresh Tomato Salsa, [Rice, Sour Cream, Cheese...</td>\n",
              "      <td>11.75</td>\n",
              "      <td>11.75</td>\n",
              "      <td>881.25</td>\n",
              "    </tr>\n",
              "    <tr>\n",
              "      <th>4617</th>\n",
              "      <td>1833</td>\n",
              "      <td>1</td>\n",
              "      <td>Steak Burrito</td>\n",
              "      <td>[Fresh Tomato Salsa, [Rice, Black Beans, Sour ...</td>\n",
              "      <td>11.75</td>\n",
              "      <td>11.75</td>\n",
              "      <td>881.25</td>\n",
              "    </tr>\n",
              "    <tr>\n",
              "      <th>4618</th>\n",
              "      <td>1833</td>\n",
              "      <td>1</td>\n",
              "      <td>Steak Burrito</td>\n",
              "      <td>[Fresh Tomato Salsa, [Rice, Sour Cream, Cheese...</td>\n",
              "      <td>11.75</td>\n",
              "      <td>11.75</td>\n",
              "      <td>881.25</td>\n",
              "    </tr>\n",
              "  </tbody>\n",
              "</table>\n",
              "<p>702 rows × 7 columns</p>\n",
              "</div>"
            ],
            "text/plain": [
              "      order_id  quantity  ... sum_price item_price_rub\n",
              "7            4         1  ...     11.75         881.25\n",
              "8            4         1  ...      9.25         693.75\n",
              "9            5         1  ...      9.25         693.75\n",
              "31          16         1  ...      8.99         674.25\n",
              "43          20         1  ...     11.75         881.25\n",
              "...        ...       ...  ...       ...            ...\n",
              "4572      1818         1  ...      9.39         704.25\n",
              "4607      1829         1  ...     11.75         881.25\n",
              "4610      1830         1  ...     11.75         881.25\n",
              "4617      1833         1  ...     11.75         881.25\n",
              "4618      1833         1  ...     11.75         881.25\n",
              "\n",
              "[702 rows x 7 columns]"
            ]
          },
          "metadata": {},
          "execution_count": 15
        }
      ]
    },
    {
      "cell_type": "code",
      "metadata": {
        "colab": {
          "base_uri": "https://localhost:8080/",
          "height": 1000
        },
        "id": "TEzzROxzWDPu",
        "outputId": "6323db6f-d1f2-413b-8465-4d8fb88e8289"
      },
      "source": [
        "# 12. Определить цену по каждой позиции в отдельности\n",
        "data.item_price = round(data.item_price / data.quantity, 2)\n",
        "prices = data.groupby('item_name').agg({\"item_price\": lambda x: list(x.unique())})\n",
        "prices"
      ],
      "id": "TEzzROxzWDPu",
      "execution_count": 16,
      "outputs": [
        {
          "output_type": "execute_result",
          "data": {
            "text/html": [
              "<div>\n",
              "<style scoped>\n",
              "    .dataframe tbody tr th:only-of-type {\n",
              "        vertical-align: middle;\n",
              "    }\n",
              "\n",
              "    .dataframe tbody tr th {\n",
              "        vertical-align: top;\n",
              "    }\n",
              "\n",
              "    .dataframe thead th {\n",
              "        text-align: right;\n",
              "    }\n",
              "</style>\n",
              "<table border=\"1\" class=\"dataframe\">\n",
              "  <thead>\n",
              "    <tr style=\"text-align: right;\">\n",
              "      <th></th>\n",
              "      <th>item_price</th>\n",
              "    </tr>\n",
              "    <tr>\n",
              "      <th>item_name</th>\n",
              "      <th></th>\n",
              "    </tr>\n",
              "  </thead>\n",
              "  <tbody>\n",
              "    <tr>\n",
              "      <th>6 Pack Soft Drink</th>\n",
              "      <td>[6.49]</td>\n",
              "    </tr>\n",
              "    <tr>\n",
              "      <th>Barbacoa Bowl</th>\n",
              "      <td>[11.75, 9.25, 8.99, 11.48, 8.69, 11.49]</td>\n",
              "    </tr>\n",
              "    <tr>\n",
              "      <th>Barbacoa Burrito</th>\n",
              "      <td>[8.99, 9.25, 11.75, 11.08, 8.69, 11.48]</td>\n",
              "    </tr>\n",
              "    <tr>\n",
              "      <th>Barbacoa Crispy Tacos</th>\n",
              "      <td>[11.75, 9.25, 11.48, 8.99]</td>\n",
              "    </tr>\n",
              "    <tr>\n",
              "      <th>Barbacoa Salad Bowl</th>\n",
              "      <td>[11.89, 9.39]</td>\n",
              "    </tr>\n",
              "    <tr>\n",
              "      <th>Barbacoa Soft Tacos</th>\n",
              "      <td>[9.25, 8.99, 11.75, 11.48]</td>\n",
              "    </tr>\n",
              "    <tr>\n",
              "      <th>Bottled Water</th>\n",
              "      <td>[1.09, 1.5]</td>\n",
              "    </tr>\n",
              "    <tr>\n",
              "      <th>Bowl</th>\n",
              "      <td>[7.4]</td>\n",
              "    </tr>\n",
              "    <tr>\n",
              "      <th>Burrito</th>\n",
              "      <td>[7.4]</td>\n",
              "    </tr>\n",
              "    <tr>\n",
              "      <th>Canned Soda</th>\n",
              "      <td>[1.09]</td>\n",
              "    </tr>\n",
              "    <tr>\n",
              "      <th>Canned Soft Drink</th>\n",
              "      <td>[1.25]</td>\n",
              "    </tr>\n",
              "    <tr>\n",
              "      <th>Carnitas Bowl</th>\n",
              "      <td>[8.99, 11.75, 9.25, 11.48, 11.08]</td>\n",
              "    </tr>\n",
              "    <tr>\n",
              "      <th>Carnitas Burrito</th>\n",
              "      <td>[8.99, 9.25, 11.75, 11.48, 11.08, 8.69]</td>\n",
              "    </tr>\n",
              "    <tr>\n",
              "      <th>Carnitas Crispy Tacos</th>\n",
              "      <td>[9.25, 11.75, 8.99]</td>\n",
              "    </tr>\n",
              "    <tr>\n",
              "      <th>Carnitas Salad</th>\n",
              "      <td>[8.99]</td>\n",
              "    </tr>\n",
              "    <tr>\n",
              "      <th>Carnitas Salad Bowl</th>\n",
              "      <td>[11.89, 9.39]</td>\n",
              "    </tr>\n",
              "    <tr>\n",
              "      <th>Carnitas Soft Tacos</th>\n",
              "      <td>[9.25, 8.99, 11.75]</td>\n",
              "    </tr>\n",
              "    <tr>\n",
              "      <th>Chicken Bowl</th>\n",
              "      <td>[8.49, 10.98, 11.25, 8.75, 8.19, 10.58, 8.5]</td>\n",
              "    </tr>\n",
              "    <tr>\n",
              "      <th>Chicken Burrito</th>\n",
              "      <td>[8.49, 10.98, 8.75, 11.25, 10.58, 8.19]</td>\n",
              "    </tr>\n",
              "    <tr>\n",
              "      <th>Chicken Crispy Tacos</th>\n",
              "      <td>[8.75, 11.25, 8.49, 10.98]</td>\n",
              "    </tr>\n",
              "    <tr>\n",
              "      <th>Chicken Salad</th>\n",
              "      <td>[10.98, 8.49, 8.19]</td>\n",
              "    </tr>\n",
              "    <tr>\n",
              "      <th>Chicken Salad Bowl</th>\n",
              "      <td>[8.75, 11.25]</td>\n",
              "    </tr>\n",
              "    <tr>\n",
              "      <th>Chicken Soft Tacos</th>\n",
              "      <td>[8.75, 11.25, 8.49, 10.98]</td>\n",
              "    </tr>\n",
              "    <tr>\n",
              "      <th>Chips</th>\n",
              "      <td>[2.15, 1.99]</td>\n",
              "    </tr>\n",
              "    <tr>\n",
              "      <th>Chips and Fresh Tomato Salsa</th>\n",
              "      <td>[2.39, 2.95, 2.29]</td>\n",
              "    </tr>\n",
              "    <tr>\n",
              "      <th>Chips and Guacamole</th>\n",
              "      <td>[4.45, 3.99, 4.0, 3.89, 4.25]</td>\n",
              "    </tr>\n",
              "    <tr>\n",
              "      <th>Chips and Mild Fresh Tomato Salsa</th>\n",
              "      <td>[3.0]</td>\n",
              "    </tr>\n",
              "    <tr>\n",
              "      <th>Chips and Roasted Chili Corn Salsa</th>\n",
              "      <td>[2.95]</td>\n",
              "    </tr>\n",
              "    <tr>\n",
              "      <th>Chips and Roasted Chili-Corn Salsa</th>\n",
              "      <td>[2.39]</td>\n",
              "    </tr>\n",
              "    <tr>\n",
              "      <th>Chips and Tomatillo Green Chili Salsa</th>\n",
              "      <td>[2.95]</td>\n",
              "    </tr>\n",
              "    <tr>\n",
              "      <th>Chips and Tomatillo Red Chili Salsa</th>\n",
              "      <td>[2.95]</td>\n",
              "    </tr>\n",
              "    <tr>\n",
              "      <th>Chips and Tomatillo-Green Chili Salsa</th>\n",
              "      <td>[2.39]</td>\n",
              "    </tr>\n",
              "    <tr>\n",
              "      <th>Chips and Tomatillo-Red Chili Salsa</th>\n",
              "      <td>[2.39]</td>\n",
              "    </tr>\n",
              "    <tr>\n",
              "      <th>Crispy Tacos</th>\n",
              "      <td>[7.4]</td>\n",
              "    </tr>\n",
              "    <tr>\n",
              "      <th>Izze</th>\n",
              "      <td>[3.39]</td>\n",
              "    </tr>\n",
              "    <tr>\n",
              "      <th>Nantucket Nectar</th>\n",
              "      <td>[3.39]</td>\n",
              "    </tr>\n",
              "    <tr>\n",
              "      <th>Salad</th>\n",
              "      <td>[7.4]</td>\n",
              "    </tr>\n",
              "    <tr>\n",
              "      <th>Side of Chips</th>\n",
              "      <td>[1.69]</td>\n",
              "    </tr>\n",
              "    <tr>\n",
              "      <th>Steak Bowl</th>\n",
              "      <td>[8.99, 11.75, 11.48, 9.25, 11.08, 8.69]</td>\n",
              "    </tr>\n",
              "    <tr>\n",
              "      <th>Steak Burrito</th>\n",
              "      <td>[11.75, 9.25, 8.99, 11.48, 11.08, 8.69]</td>\n",
              "    </tr>\n",
              "    <tr>\n",
              "      <th>Steak Crispy Tacos</th>\n",
              "      <td>[9.25, 8.99, 8.69, 11.75]</td>\n",
              "    </tr>\n",
              "    <tr>\n",
              "      <th>Steak Salad</th>\n",
              "      <td>[8.99, 8.69]</td>\n",
              "    </tr>\n",
              "    <tr>\n",
              "      <th>Steak Salad Bowl</th>\n",
              "      <td>[11.89, 9.39]</td>\n",
              "    </tr>\n",
              "    <tr>\n",
              "      <th>Steak Soft Tacos</th>\n",
              "      <td>[9.25, 8.99, 11.75, 11.48]</td>\n",
              "    </tr>\n",
              "    <tr>\n",
              "      <th>Veggie Bowl</th>\n",
              "      <td>[11.25, 8.49, 8.75, 10.98]</td>\n",
              "    </tr>\n",
              "    <tr>\n",
              "      <th>Veggie Burrito</th>\n",
              "      <td>[11.25, 8.49, 10.98, 8.75]</td>\n",
              "    </tr>\n",
              "    <tr>\n",
              "      <th>Veggie Crispy Tacos</th>\n",
              "      <td>[8.49]</td>\n",
              "    </tr>\n",
              "    <tr>\n",
              "      <th>Veggie Salad</th>\n",
              "      <td>[8.49]</td>\n",
              "    </tr>\n",
              "    <tr>\n",
              "      <th>Veggie Salad Bowl</th>\n",
              "      <td>[11.25, 8.75]</td>\n",
              "    </tr>\n",
              "    <tr>\n",
              "      <th>Veggie Soft Tacos</th>\n",
              "      <td>[11.25, 8.75, 8.49]</td>\n",
              "    </tr>\n",
              "  </tbody>\n",
              "</table>\n",
              "</div>"
            ],
            "text/plain": [
              "                                                                         item_price\n",
              "item_name                                                                          \n",
              "6 Pack Soft Drink                                                            [6.49]\n",
              "Barbacoa Bowl                               [11.75, 9.25, 8.99, 11.48, 8.69, 11.49]\n",
              "Barbacoa Burrito                            [8.99, 9.25, 11.75, 11.08, 8.69, 11.48]\n",
              "Barbacoa Crispy Tacos                                    [11.75, 9.25, 11.48, 8.99]\n",
              "Barbacoa Salad Bowl                                                   [11.89, 9.39]\n",
              "Barbacoa Soft Tacos                                      [9.25, 8.99, 11.75, 11.48]\n",
              "Bottled Water                                                           [1.09, 1.5]\n",
              "Bowl                                                                          [7.4]\n",
              "Burrito                                                                       [7.4]\n",
              "Canned Soda                                                                  [1.09]\n",
              "Canned Soft Drink                                                            [1.25]\n",
              "Carnitas Bowl                                     [8.99, 11.75, 9.25, 11.48, 11.08]\n",
              "Carnitas Burrito                            [8.99, 9.25, 11.75, 11.48, 11.08, 8.69]\n",
              "Carnitas Crispy Tacos                                           [9.25, 11.75, 8.99]\n",
              "Carnitas Salad                                                               [8.99]\n",
              "Carnitas Salad Bowl                                                   [11.89, 9.39]\n",
              "Carnitas Soft Tacos                                             [9.25, 8.99, 11.75]\n",
              "Chicken Bowl                           [8.49, 10.98, 11.25, 8.75, 8.19, 10.58, 8.5]\n",
              "Chicken Burrito                             [8.49, 10.98, 8.75, 11.25, 10.58, 8.19]\n",
              "Chicken Crispy Tacos                                     [8.75, 11.25, 8.49, 10.98]\n",
              "Chicken Salad                                                   [10.98, 8.49, 8.19]\n",
              "Chicken Salad Bowl                                                    [8.75, 11.25]\n",
              "Chicken Soft Tacos                                       [8.75, 11.25, 8.49, 10.98]\n",
              "Chips                                                                  [2.15, 1.99]\n",
              "Chips and Fresh Tomato Salsa                                     [2.39, 2.95, 2.29]\n",
              "Chips and Guacamole                                   [4.45, 3.99, 4.0, 3.89, 4.25]\n",
              "Chips and Mild Fresh Tomato Salsa                                             [3.0]\n",
              "Chips and Roasted Chili Corn Salsa                                           [2.95]\n",
              "Chips and Roasted Chili-Corn Salsa                                           [2.39]\n",
              "Chips and Tomatillo Green Chili Salsa                                        [2.95]\n",
              "Chips and Tomatillo Red Chili Salsa                                          [2.95]\n",
              "Chips and Tomatillo-Green Chili Salsa                                        [2.39]\n",
              "Chips and Tomatillo-Red Chili Salsa                                          [2.39]\n",
              "Crispy Tacos                                                                  [7.4]\n",
              "Izze                                                                         [3.39]\n",
              "Nantucket Nectar                                                             [3.39]\n",
              "Salad                                                                         [7.4]\n",
              "Side of Chips                                                                [1.69]\n",
              "Steak Bowl                                  [8.99, 11.75, 11.48, 9.25, 11.08, 8.69]\n",
              "Steak Burrito                               [11.75, 9.25, 8.99, 11.48, 11.08, 8.69]\n",
              "Steak Crispy Tacos                                        [9.25, 8.99, 8.69, 11.75]\n",
              "Steak Salad                                                            [8.99, 8.69]\n",
              "Steak Salad Bowl                                                      [11.89, 9.39]\n",
              "Steak Soft Tacos                                         [9.25, 8.99, 11.75, 11.48]\n",
              "Veggie Bowl                                              [11.25, 8.49, 8.75, 10.98]\n",
              "Veggie Burrito                                           [11.25, 8.49, 10.98, 8.75]\n",
              "Veggie Crispy Tacos                                                          [8.49]\n",
              "Veggie Salad                                                                 [8.49]\n",
              "Veggie Salad Bowl                                                     [11.25, 8.75]\n",
              "Veggie Soft Tacos                                               [11.25, 8.75, 8.49]"
            ]
          },
          "metadata": {},
          "execution_count": 16
        }
      ]
    },
    {
      "cell_type": "markdown",
      "metadata": {
        "id": "cf725ec6"
      },
      "source": [
        "### Алгоритмы уменьшения размерности \n",
        "\n",
        "#### повторить эксперименты в главе 5.1 Qalitative Comparison of Multiple Algorithms статьи статьи UMAP: Uniform Manifold\n",
        "#### Approximation and Projection for Dimension Reduction (https://arxiv.org/pdf/1802.03426.pdf)\n",
        "\n",
        "#### необходимо воспроизвести все графики данной главы, соотнести выводы из статьи с вашими результатами."
      ],
      "id": "cf725ec6"
    }
  ]
}